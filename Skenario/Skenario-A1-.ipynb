{
 "cells": [
  {
   "cell_type": "code",
   "execution_count": 2,
   "id": "cb483e59",
   "metadata": {},
   "outputs": [
    {
     "name": "stdout",
     "output_type": "stream",
     "text": [
      "/Users/ghoziwaridi/PEMOGRAMAN/Python/Deep_learning/CNN/Weed_detection/Skenario\n",
      "/Users/ghoziwaridi/PEMOGRAMAN/Python/Deep_learning/CNN/Weed_detection\n"
     ]
    }
   ],
   "source": [
    "import os\n",
    "import cv2\n",
    "import sys\n",
    "import numpy as np\n",
    "from tqdm import tqdm\n",
    "import matplotlib.pyplot as plt\n",
    "from sklearn.preprocessing import LabelEncoder\n",
    "from sklearn.model_selection import train_test_split\n",
    "\n",
    "current_path = os.getcwd()\n",
    "print(current_path)\n",
    "project_root_path = os.path.abspath(os.path.join(current_path, '..'))\n",
    "print(project_root_path)\n",
    "\n",
    "if project_root_path not in sys.path:\n",
    "    sys.path.append(project_root_path)\n",
    "    \n",
    "from Data.Dataset_loader import load_dataset as dataset_loader"
   ]
  },
  {
   "cell_type": "code",
   "execution_count": 3,
   "id": "85670346",
   "metadata": {},
   "outputs": [],
   "source": [
    "path_training: str = \"/Users/ghoziwaridi/PEMOGRAMAN/Python/Deep_learning/CNN/Weed_detection/Dataset/train\"\n",
    "path_testing: str = \"/Users/ghoziwaridi/PEMOGRAMAN/Python/Deep_learning/CNN/Weed_detection/Dataset/test\"\n",
    "\n",
    "image_size = (28, 28)\n"
   ]
  },
  {
   "cell_type": "markdown",
   "id": "156d870b",
   "metadata": {},
   "source": [
    "# Read Image"
   ]
  },
  {
   "cell_type": "markdown",
   "id": "a96f0094",
   "metadata": {},
   "source": [
    "### PILLOW"
   ]
  },
  {
   "cell_type": "code",
   "execution_count": 4,
   "id": "0aabaff9",
   "metadata": {},
   "outputs": [],
   "source": [
    "# img = cv2.imread(\"/Users/ghoziwaridi/PEMOGRAMAN/Python/Deep_learning/CNN/Weed_detection/Dataset/train/Rumex-obtusifolius-L_2584_jpg.rf.e6c8a0c4e80ff0f6a6d9530bfd5d4aa6.jpg\")\n",
    "# img = cv2.resize(img, image_size)\n",
    "# plt.imshow(img)"
   ]
  },
  {
   "cell_type": "markdown",
   "id": "eea50d13",
   "metadata": {},
   "source": [
    "### Image GrayScale"
   ]
  },
  {
   "cell_type": "code",
   "execution_count": 5,
   "id": "1093d1c8",
   "metadata": {},
   "outputs": [],
   "source": [
    "\n",
    "# img = cv2.cvtColor(img, cv2.COLOR_BGR2GRAY)\n",
    "\n",
    "# plt.imshow(img, cmap='gray')\n",
    "\n",
    "# image = np.expand_dims(img, axis=0)\n",
    "# plt.imshow(image[0], cmap='gray')"
   ]
  },
  {
   "cell_type": "markdown",
   "id": "bd16c7f3",
   "metadata": {},
   "source": [
    "# Skenario read class dataset folder"
   ]
  },
  {
   "cell_type": "code",
   "execution_count": 6,
   "id": "6334dc42",
   "metadata": {},
   "outputs": [],
   "source": [
    "def load_dataset(dataset_path, image_size=(28, 28), test_size=0.2, random_state=42):\n",
    "    print(f\"PATH : {dataset_path}\")\n",
    "    images, labels = [], []\n",
    "    \n",
    "    class_folder = sorted([f for f in os.listdir(dataset_path)                           \n",
    "    if os.path.isdir(os.path.join(dataset_path, f))])\n",
    "    print(f\"Classes Found: {class_folder}\")\n",
    "    \n",
    "    \n",
    "    \n",
    "    "
   ]
  },
  {
   "cell_type": "code",
   "execution_count": 7,
   "id": "f9bd9ac1",
   "metadata": {},
   "outputs": [
    {
     "name": "stdout",
     "output_type": "stream",
     "text": [
      "PATH : /Users/ghoziwaridi/PEMOGRAMAN/Python/Deep_learning/CNN/Weed_detection/Dataset/train\n",
      "Classes Found: ['ridderzuring', 'rumex']\n"
     ]
    }
   ],
   "source": [
    "load_dataset(path_training,  image_size)"
   ]
  },
  {
   "cell_type": "code",
   "execution_count": 8,
   "id": "0684c72d",
   "metadata": {},
   "outputs": [
    {
     "name": "stdout",
     "output_type": "stream",
     "text": [
      "PATH : /Users/ghoziwaridi/PEMOGRAMAN/Python/Deep_learning/CNN/Weed_detection/Dataset/test\n",
      "Classes Found: ['ridderzuring', 'rumex']\n"
     ]
    }
   ],
   "source": [
    "load_dataset(path_testing, image_size)"
   ]
  },
  {
   "cell_type": "code",
   "execution_count": 9,
   "id": "915d118e",
   "metadata": {},
   "outputs": [
    {
     "name": "stdout",
     "output_type": "stream",
     "text": [
      "Classes Found: ['ridderzuring', 'rumex']\n",
      "Loading images from class: /Users/ghoziwaridi/PEMOGRAMAN/Python/Deep_learning/CNN/Weed_detection/Dataset/train/ridderzuring\n"
     ]
    },
    {
     "name": "stderr",
     "output_type": "stream",
     "text": [
      "Loading ridderzuring images: 100%|██████████| 825/825 [00:03<00:00, 211.44it/s]\n"
     ]
    },
    {
     "name": "stdout",
     "output_type": "stream",
     "text": [
      "Loading images from class: /Users/ghoziwaridi/PEMOGRAMAN/Python/Deep_learning/CNN/Weed_detection/Dataset/train/rumex\n"
     ]
    },
    {
     "name": "stderr",
     "output_type": "stream",
     "text": [
      "Loading rumex images: 100%|██████████| 727/727 [00:03<00:00, 213.70it/s]\n"
     ]
    },
    {
     "name": "stdout",
     "output_type": "stream",
     "text": [
      "Total images loaded: 1551\n",
      "[[[114. 142.  83. ...  91. 112. 130.]\n",
      "  [107.  98.  78. ... 104. 167. 108.]\n",
      "  [ 61.  74. 137. ... 114. 104.  98.]\n",
      "  ...\n",
      "  [ 54. 106.  69. ...  79. 117.  92.]\n",
      "  [ 88. 103. 112. ... 113. 117. 123.]\n",
      "  [122.  85. 107. ... 116.  79. 118.]]\n",
      "\n",
      " [[ 97.  76. 139. ...  66. 127.  52.]\n",
      "  [ 61.  89. 111. ...  70.  71.  55.]\n",
      "  [125.  67. 105. ...  86.  89.  89.]\n",
      "  ...\n",
      "  [ 90.  91.  67. ... 103. 124. 113.]\n",
      "  [100. 113.  87. ... 120. 121.  72.]\n",
      "  [ 90. 109. 120. ... 101. 105.  84.]]\n",
      "\n",
      " [[ 79.  87. 114. ... 133.  72.  64.]\n",
      "  [119.  85. 120. ...  89.  88. 114.]\n",
      "  [124.  69.  92. ...  99. 104. 144.]\n",
      "  ...\n",
      "  [113.  74. 123. ... 162.  72.  99.]\n",
      "  [104.  98.  90. ...  62.  64. 101.]\n",
      "  [122. 128. 104. ...  90. 123.  68.]]\n",
      "\n",
      " ...\n",
      "\n",
      " [[113. 117.  69. ...  82. 131. 121.]\n",
      "  [119. 108.  98. ... 128. 155. 120.]\n",
      "  [ 95.  76.  89. ... 105. 101. 126.]\n",
      "  ...\n",
      "  [139.  53. 105. ... 107. 121. 143.]\n",
      "  [134.  66. 112. ...  88. 129. 113.]\n",
      "  [127. 102. 110. ...  78. 165. 175.]]\n",
      "\n",
      " [[ 91. 125. 117. ... 102.  84.  65.]\n",
      "  [ 72. 110. 109. ... 123.  58.  81.]\n",
      "  [ 96. 139.  97. ... 106. 147. 120.]\n",
      "  ...\n",
      "  [ 85. 115. 126. ... 136. 137. 113.]\n",
      "  [109. 110. 100. ... 120. 106. 158.]\n",
      "  [103. 142. 120. ... 104. 152. 139.]]\n",
      "\n",
      " [[101.  97. 109. ...  81.  87.  70.]\n",
      "  [109.  93. 115. ... 129.  72.  85.]\n",
      "  [ 71.  89.  96. ...  82.  74. 105.]\n",
      "  ...\n",
      "  [110.  72.  71. ... 118. 127. 101.]\n",
      "  [100. 129. 113. ... 106. 112. 127.]\n",
      "  [105.  99. 100. ... 126. 176.  55.]]]\n",
      "Total labels loaded: 1551\n",
      "[0 0 0 ... 1 1 1]\n",
      "Classes Found: ['ridderzuring', 'rumex']\n",
      "Loading images from class: /Users/ghoziwaridi/PEMOGRAMAN/Python/Deep_learning/CNN/Weed_detection/Dataset/test/ridderzuring\n"
     ]
    },
    {
     "name": "stderr",
     "output_type": "stream",
     "text": [
      "Loading ridderzuring images: 100%|██████████| 245/245 [00:01<00:00, 212.00it/s]\n"
     ]
    },
    {
     "name": "stdout",
     "output_type": "stream",
     "text": [
      "Loading images from class: /Users/ghoziwaridi/PEMOGRAMAN/Python/Deep_learning/CNN/Weed_detection/Dataset/test/rumex\n"
     ]
    },
    {
     "name": "stderr",
     "output_type": "stream",
     "text": [
      "Loading rumex images: 100%|██████████| 110/110 [00:00<00:00, 193.48it/s]"
     ]
    },
    {
     "name": "stdout",
     "output_type": "stream",
     "text": [
      "Total images loaded: 355\n",
      "[[[106.  76. 129. ...  80.  95.  61.]\n",
      "  [ 99. 111. 117. ...  77. 118. 102.]\n",
      "  [106. 113.  55. ...  85.  54.  51.]\n",
      "  ...\n",
      "  [ 66. 101. 109. ...  42. 125.  51.]\n",
      "  [ 88. 107.  90. ...  71.  77.  40.]\n",
      "  [101. 134. 105. ...  49. 175. 114.]]\n",
      "\n",
      " [[103. 113. 139. ...  92.  67. 105.]\n",
      "  [135. 100. 127. ... 104. 128. 117.]\n",
      "  [113.  61. 126. ...  72.  43. 123.]\n",
      "  ...\n",
      "  [119.  94. 117. ...  82. 123.  97.]\n",
      "  [136. 121.  95. ...  69. 126. 132.]\n",
      "  [ 89. 134. 106. ...  93. 110. 168.]]\n",
      "\n",
      " [[113. 106.  68. ...  90.  83.  69.]\n",
      "  [ 79.  95.  75. ...  51.  72.  59.]\n",
      "  [ 79.  77.  83. ...  91. 103.  84.]\n",
      "  ...\n",
      "  [101.  83. 125. ... 105. 126. 120.]\n",
      "  [122.  86. 103. ... 113. 119.  57.]\n",
      "  [ 95.  61. 104. ... 118.  65.  49.]]\n",
      "\n",
      " ...\n",
      "\n",
      " [[101. 119.  86. ...  97.  55. 108.]\n",
      "  [144. 115. 120. ...  94.  50. 125.]\n",
      "  [110.  51.  98. ... 140.  93. 127.]\n",
      "  ...\n",
      "  [ 89.  82. 109. ... 116.  85. 128.]\n",
      "  [ 81. 103. 112. ... 143. 133.  91.]\n",
      "  [138. 110.  93. ... 102.  91.  55.]]\n",
      "\n",
      " [[ 75.  78.  75. ... 108. 144. 115.]\n",
      "  [ 76. 112.  92. ...  98.  92. 151.]\n",
      "  [ 94. 130. 137. ...  59.  82. 115.]\n",
      "  ...\n",
      "  [ 96. 115.  79. ...  74.  95. 180.]\n",
      "  [ 63. 107. 123. ...  83. 107.  74.]\n",
      "  [175. 152.  41. ...  98.  91.  90.]]\n",
      "\n",
      " [[107.  82. 132. ... 121. 103. 108.]\n",
      "  [135. 110.  94. ... 134.  80. 116.]\n",
      "  [104.  99.  92. ... 120.  66. 129.]\n",
      "  ...\n",
      "  [102. 111. 108. ...  91. 119. 105.]\n",
      "  [145. 109. 125. ... 111.  77. 157.]\n",
      "  [102. 138. 163. ...  75. 118. 110.]]]\n",
      "Total labels loaded: 355\n",
      "[0 0 0 0 0 0 0 0 0 0 0 0 0 0 0 0 0 0 0 0 0 0 0 0 0 0 0 0 0 0 0 0 0 0 0 0 0\n",
      " 0 0 0 0 0 0 0 0 0 0 0 0 0 0 0 0 0 0 0 0 0 0 0 0 0 0 0 0 0 0 0 0 0 0 0 0 0\n",
      " 0 0 0 0 0 0 0 0 0 0 0 0 0 0 0 0 0 0 0 0 0 0 0 0 0 0 0 0 0 0 0 0 0 0 0 0 0\n",
      " 0 0 0 0 0 0 0 0 0 0 0 0 0 0 0 0 0 0 0 0 0 0 0 0 0 0 0 0 0 0 0 0 0 0 0 0 0\n",
      " 0 0 0 0 0 0 0 0 0 0 0 0 0 0 0 0 0 0 0 0 0 0 0 0 0 0 0 0 0 0 0 0 0 0 0 0 0\n",
      " 0 0 0 0 0 0 0 0 0 0 0 0 0 0 0 0 0 0 0 0 0 0 0 0 0 0 0 0 0 0 0 0 0 0 0 0 0\n",
      " 0 0 0 0 0 0 0 0 0 0 0 0 0 0 0 0 0 0 0 0 0 0 0 1 1 1 1 1 1 1 1 1 1 1 1 1 1\n",
      " 1 1 1 1 1 1 1 1 1 1 1 1 1 1 1 1 1 1 1 1 1 1 1 1 1 1 1 1 1 1 1 1 1 1 1 1 1\n",
      " 1 1 1 1 1 1 1 1 1 1 1 1 1 1 1 1 1 1 1 1 1 1 1 1 1 1 1 1 1 1 1 1 1 1 1 1 1\n",
      " 1 1 1 1 1 1 1 1 1 1 1 1 1 1 1 1 1 1 1 1 1 1]\n"
     ]
    },
    {
     "name": "stderr",
     "output_type": "stream",
     "text": [
      "\n"
     ]
    }
   ],
   "source": [
    "x_train, y_train, labels =  dataset_loader(dataset_path=path_training, image_size=image_size)\n",
    "x_test, y_test, labels = dataset_loader(dataset_path=path_testing, image_size=image_size)"
   ]
  }
 ],
 "metadata": {
  "kernelspec": {
   "display_name": "Python 3",
   "language": "python",
   "name": "python3"
  },
  "language_info": {
   "codemirror_mode": {
    "name": "ipython",
    "version": 3
   },
   "file_extension": ".py",
   "mimetype": "text/x-python",
   "name": "python",
   "nbconvert_exporter": "python",
   "pygments_lexer": "ipython3",
   "version": "3.12.6"
  }
 },
 "nbformat": 4,
 "nbformat_minor": 5
}
