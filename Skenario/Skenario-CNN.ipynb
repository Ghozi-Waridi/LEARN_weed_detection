{
 "cells": [
  {
   "cell_type": "code",
   "execution_count": 3,
   "id": "d48d32cb",
   "metadata": {},
   "outputs": [
    {
     "name": "stdout",
     "output_type": "stream",
     "text": [
      "/Users/ghoziwaridi/PEMOGRAMAN/Python/Deep_learning/CNN/Weed_detection/skenario\n",
      "/Users/ghoziwaridi/PEMOGRAMAN/Python/Deep_learning/CNN/Weed_detection\n"
     ]
    }
   ],
   "source": [
    "import os\n",
    "import cv2\n",
    "import sys\n",
    "import numpy as np\n",
    "from tqdm import tqdm\n",
    "import matplotlib.pyplot as plt\n",
    "from sklearn.preprocessing import LabelEncoder\n",
    "from sklearn.model_selection import train_test_split\n",
    "\n",
    "current_path = os.getcwd()\n",
    "print(current_path)\n",
    "project_root_path = os.path.abspath(os.path.join(current_path, '..'))\n",
    "print(project_root_path)\n",
    "\n",
    "if project_root_path not in sys.path:\n",
    "    sys.path.append(project_root_path)\n",
    "    \n",
    "# from data.Dataset_loader import load_dataset as dataset_loader\n",
    "# from models.forward import Forward as fw"
   ]
  },
  {
   "cell_type": "code",
   "execution_count": 6,
   "id": "403f4022",
   "metadata": {},
   "outputs": [
    {
     "name": "stderr",
     "output_type": "stream",
     "text": [
      "[ WARN:0@37.520] global loadsave.cpp:241 findDecoder imread_('/Users/ghoziwaridi/PEMOGRAMAN/Python/Deep_learning/CNN/Weed_detection/Dataset/ghozi.jpg'): can't open/read file: check file path/integrity\n"
     ]
    },
    {
     "ename": "error",
     "evalue": "OpenCV(4.10.0) /Users/xperience/GHA-Actions-OpenCV/_work/opencv-python/opencv-python/opencv/modules/imgproc/src/color.cpp:196: error: (-215:Assertion failed) !_src.empty() in function 'cvtColor'\n",
     "output_type": "error",
     "traceback": [
      "\u001b[0;31m---------------------------------------------------------------------------\u001b[0m",
      "\u001b[0;31merror\u001b[0m                                     Traceback (most recent call last)",
      "Cell \u001b[0;32mIn[6], line 5\u001b[0m\n\u001b[1;32m      3\u001b[0m img \u001b[38;5;241m=\u001b[39m cv2\u001b[38;5;241m.\u001b[39mimread(path)\n\u001b[1;32m      4\u001b[0m \u001b[38;5;66;03m# print(img.shape)\u001b[39;00m\n\u001b[0;32m----> 5\u001b[0m img \u001b[38;5;241m=\u001b[39m \u001b[43mcv2\u001b[49m\u001b[38;5;241;43m.\u001b[39;49m\u001b[43mcvtColor\u001b[49m\u001b[43m(\u001b[49m\u001b[43mimg\u001b[49m\u001b[43m,\u001b[49m\u001b[43m \u001b[49m\u001b[43mcv2\u001b[49m\u001b[38;5;241;43m.\u001b[39;49m\u001b[43mCOLOR_BGR2GRAY\u001b[49m\u001b[43m)\u001b[49m\n\u001b[1;32m      6\u001b[0m img \u001b[38;5;241m=\u001b[39m cv2\u001b[38;5;241m.\u001b[39mresize(img, (\u001b[38;5;241m64\u001b[39m, \u001b[38;5;241m64\u001b[39m))\n\u001b[1;32m      7\u001b[0m plt\u001b[38;5;241m.\u001b[39mimshow(img, cmap\u001b[38;5;241m=\u001b[39m\u001b[38;5;124m\"\u001b[39m\u001b[38;5;124mgray\u001b[39m\u001b[38;5;124m\"\u001b[39m)\n",
      "\u001b[0;31merror\u001b[0m: OpenCV(4.10.0) /Users/xperience/GHA-Actions-OpenCV/_work/opencv-python/opencv-python/opencv/modules/imgproc/src/color.cpp:196: error: (-215:Assertion failed) !_src.empty() in function 'cvtColor'\n"
     ]
    }
   ],
   "source": [
    "path = \"/Users/ghoziwaridi/PEMOGRAMAN/Python/Deep_learning/CNN/Weed_detection/Dataset/ghozi.jpg\"\n",
    "\n",
    "img = cv2.imread(path)\n",
    "# print(img.shape)\n",
    "img = cv2.cvtColor(img, cv2.COLOR_BGR2GRAY)\n",
    "img = cv2.resize(img, (64, 64))\n",
    "plt.imshow(img, cmap=\"gray\")\n",
    "\n"
   ]
  },
  {
   "cell_type": "markdown",
   "id": "0c6225e2",
   "metadata": {},
   "source": [
    "# Pembuatan Kernel yang akan digunakan untuk filter pada CNN"
   ]
  },
  {
   "cell_type": "code",
   "execution_count": null,
   "id": "98edc910",
   "metadata": {},
   "outputs": [],
   "source": [
    "# Sobel filter (deteksi tepi horizontal)\n",
    "sobel_x = np.array([\n",
    "    [-1, 0, 1],\n",
    "    [-2, 0, 2],\n",
    "    [-1, 0, 1]\n",
    "])\n",
    "\n",
    "# Sobel filter (deteksi tepi vertikal)\n",
    "sobel_y = np.array([\n",
    "    [-1, -2, -1],\n",
    "    [ 0,  0,  0],\n",
    "    [ 1,  2,  1]\n",
    "])\n",
    "\n",
    "# Prewitt filter (deteksi tepi horizontal)\n",
    "prewitt_x = np.array([\n",
    "    [-1, 0, 1],\n",
    "    [-1, 0, 1],\n",
    "    [-1, 0, 1]\n",
    "])\n",
    "\n",
    "# Prewitt filter (deteksi tepi vertikal)\n",
    "prewitt_y = np.array([\n",
    "    [-1, -1, -1],\n",
    "    [ 0,  0,  0],\n",
    "    [ 1,  1,  1]\n",
    "])\n",
    "\n",
    "# Gaussian blur (blur/lembutkan gambar)\n",
    "gaussian = (1/16) * np.array([\n",
    "    [1, 2, 1],\n",
    "    [2, 4, 2],\n",
    "    [1, 2, 1]\n",
    "])\n",
    "\n",
    "# Laplacian filter (deteksi tepi)\n",
    "laplacian = np.array([\n",
    "    [0,  1, 0],\n",
    "    [1, -4, 1],\n",
    "    [0,  1, 0]\n",
    "])\n",
    "\n",
    "# Sharpen filter (menajamkan gambar)\n",
    "sharpen = np.array([\n",
    "    [0, -1, 0],\n",
    "    [-1, 5, -1],\n",
    "    [0, -1, 0]\n",
    "])\n",
    "\n",
    "# Emboss filter (efek timbul)\n",
    "emboss = np.array([\n",
    "    [-2, -1, 0],\n",
    "    [-1, 1, 1],\n",
    "    [0, 1, 2]\n",
    "])"
   ]
  },
  {
   "cell_type": "markdown",
   "id": "b7692d44",
   "metadata": {},
   "source": [
    "# Skenario Untuk Operasi dari Convulational Neural Networks"
   ]
  },
  {
   "cell_type": "code",
   "execution_count": null,
   "id": "aecc0715",
   "metadata": {},
   "outputs": [],
   "source": [
    "def conv_layer(image, kernel, stride=1):\n",
    "        \n",
    "    image  = np.array(image)\n",
    "    x, y = image.shape\n",
    "        \n",
    "    kernel = np.array(kernel)\n",
    "    x_kernel, y_kernel = kernel.shape\n",
    "        \n",
    "    output = np.zeros(((x - x_kernel) // stride + 1, (y - y_kernel) // stride + 1))\n",
    "## Membuat sebuah ukuran output dengan menyesuaikan dengan ukuran kernel dan berapa langkah yang akan di ambil\n",
    "    out_h = output.shape[1] # kita mengambil tinggi dari output untuk melakukan perulangan dan supaya sesuai dengna ukuran hasil dari output nantinnya\n",
    "    out_w = output.shape[0]\n",
    "        \n",
    "    for i in range(out_w):\n",
    "        for j  in range(out_h):\n",
    "            point_h = i * stride\n",
    "            point_w = j * stride\n",
    "            patch = image[point_h:point_h + kernel.shape[0], point_w:point_w + kernel.shape[1]] ## Gambar yang di ambil sesuai dengan ukuran kernel unutk melakuakn operasi convulation\n",
    "            output[i, j] += np.sum(np.dot(patch, kernel)) \n",
    "                \n",
    "    return output"
   ]
  },
  {
   "cell_type": "code",
   "execution_count": null,
   "id": "24348d42",
   "metadata": {},
   "outputs": [],
   "source": [
    "output_sobel_x = conv_layer(img, sobel_x, stride=1)\n",
    "output_sobel_y = conv_layer(img, sobel_y, stride=1)\n",
    "output_prewit_x = conv_layer(img, prewitt_x, stride=1)\n",
    "output_prewit_y = conv_layer(img, prewitt_y, stride=1)\n",
    "output_gaussian = conv_layer(img, gaussian, stride=1)\n",
    "output_laplicia = conv_layer(img, laplacian, stride=1)\n",
    "output_sharpen = conv_layer(img, sharpen, stride=1)\n",
    "output_emboss = conv_layer(img, emboss, stride=1)\n",
    "\n",
    "\n",
    "plt.figure(figsize=(10, 10))\n",
    "plt.subplot(3, 3, 1)\n",
    "plt.imshow(output_sobel_x, cmap=\"gray\")\n",
    "plt.title(\"Sobel X\")\n",
    "plt.axis(\"off\")\n",
    "plt.subplot(3, 3, 2)\n",
    "plt.imshow(output_sobel_y, cmap=\"gray\")\n",
    "plt.title(\"Sobel Y\")\n",
    "plt.axis(\"off\")\n",
    "plt.subplot(3, 3, 3)\n",
    "plt.imshow(output_prewit_x, cmap=\"gray\")\n",
    "plt.title(\"Prewitt X\")\n",
    "plt.axis(\"off\")\n",
    "plt.subplot(3, 3, 4)\n",
    "plt.imshow(output_prewit_y, cmap=\"gray\")\n",
    "plt.title(\"Prewitt Y\")\n",
    "plt.axis(\"off\")\n",
    "plt.subplot(3, 3, 5)\n",
    "plt.imshow(output_gaussian, cmap=\"gray\")\n",
    "plt.title(\"Gaussian Blur\")\n",
    "plt.axis(\"off\")\n",
    "plt.subplot(3, 3, 6)\n",
    "plt.imshow(output_laplicia, cmap=\"gray\")\n",
    "plt.title(\"Laplacian\")\n",
    "plt.axis(\"off\")\n",
    "plt.subplot(3, 3, 7)\n",
    "plt.imshow(output_sharpen, cmap=\"gray\")\n",
    "plt.title(\"Sharpen\")\n",
    "plt.axis(\"off\")\n",
    "plt.subplot(3, 3, 8)\n",
    "plt.imshow(output_emboss, cmap=\"gray\")\n",
    "plt.title(\"Emboss\")\n",
    "plt.axis(\"off\")\n",
    "plt.tight_layout()\n",
    "plt.show()\n"
   ]
  },
  {
   "cell_type": "markdown",
   "id": "973c9ea7",
   "metadata": {},
   "source": [
    "## ReLU Activation Function"
   ]
  },
  {
   "cell_type": "code",
   "execution_count": null,
   "id": "3fa23734",
   "metadata": {},
   "outputs": [],
   "source": [
    "def relu(x):\n",
    "    return np.maximum(0, x)"
   ]
  },
  {
   "cell_type": "code",
   "execution_count": null,
   "id": "8d849e3c",
   "metadata": {},
   "outputs": [],
   "source": [
    "relu_sobel_x = relu(output_sobel_x)\n",
    "relu_sobel_y = relu(output_sobel_y)\n",
    "relu_prewit_x = relu(output_prewit_x)\n",
    "relu_prewit_y = relu(output_prewit_y)\n",
    "relu_gaussian = relu(output_gaussian)\n",
    "relu_laplicia = relu(output_laplicia)\n",
    "relu_sharpen = relu(output_sharpen)\n",
    "relu_emboss = relu(output_emboss)\n",
    "\n"
   ]
  },
  {
   "cell_type": "code",
   "execution_count": null,
   "id": "92749360",
   "metadata": {},
   "outputs": [],
   "source": [
    "\n",
    "plt.figure(figsize=(10, 10))\n",
    "plt.subplot(3, 3, 1)\n",
    "plt.imshow(relu_sobel_x, cmap=\"gray\")\n",
    "plt.title(\"Sobel X\")\n",
    "plt.axis(\"off\")\n",
    "plt.subplot(3, 3, 2)\n",
    "plt.imshow(relu_sobel_y, cmap=\"gray\")\n",
    "plt.title(\"Sobel Y\")\n",
    "plt.axis(\"off\")\n",
    "plt.subplot(3, 3, 3)\n",
    "plt.imshow(relu_prewit_x, cmap=\"gray\")\n",
    "plt.title(\"Prewitt X\")\n",
    "plt.axis(\"off\")\n",
    "plt.subplot(3, 3, 4)\n",
    "plt.imshow(relu_prewit_y, cmap=\"gray\")\n",
    "plt.title(\"Prewitt Y\")\n",
    "plt.axis(\"off\")\n",
    "plt.subplot(3, 3, 5)\n",
    "plt.imshow(relu_gaussian, cmap=\"gray\")\n",
    "plt.title(\"Gaussian Blur\")\n",
    "plt.axis(\"off\")\n",
    "plt.subplot(3, 3, 6)\n",
    "plt.imshow(relu_laplicia, cmap=\"gray\")\n",
    "plt.title(\"Laplacian\")\n",
    "plt.axis(\"off\")\n",
    "plt.subplot(3, 3, 7)\n",
    "plt.imshow(relu_sharpen, cmap=\"gray\")\n",
    "plt.title(\"Sharpen\")\n",
    "plt.axis(\"off\")\n",
    "plt.subplot(3, 3, 8)\n",
    "plt.imshow(relu_emboss, cmap=\"gray\")\n",
    "plt.title(\"Emboss\")\n",
    "plt.axis(\"off\")\n",
    "plt.tight_layout()\n",
    "plt.show()"
   ]
  },
  {
   "cell_type": "code",
   "execution_count": null,
   "id": "ab3c4b88",
   "metadata": {},
   "outputs": [],
   "source": [
    "plt.figure(figsize=(8, 4))\n",
    "plt.plot(relu_laplicia[0], marker='o', label='Baris Pertama')\n",
    "plt.plot(relu_laplicia[:, 0], marker='x', label='Kolom Pertama')\n",
    "plt.plot(output_laplicia[0], marker='o', label='Kolom Pertama')\n",
    "plt.plot(output_laplicia[0], marker='o', label='Kolom Pertama')\n",
    "plt.title(\"Line Plot Nilai Piksel Baris & Kolom Pertama (ReLU Laplacian)\")\n",
    "plt.xlabel(\"Indeks\")\n",
    "plt.ylabel(\"Nilai Piksel\")\n",
    "plt.legend()\n",
    "plt.grid(True)\n",
    "plt.show()"
   ]
  },
  {
   "cell_type": "markdown",
   "id": "4c55f6f3",
   "metadata": {},
   "source": [
    "# MaxxPooling"
   ]
  },
  {
   "cell_type": "code",
   "execution_count": null,
   "id": "4daa2c9c",
   "metadata": {},
   "outputs": [],
   "source": [
    "def maxPooling(image, pool_size=(2, 2), stride=2):\n",
    "    image = np.array(image)\n",
    "    x, y = image.shape\n",
    "        \n",
    "    output = np.zeros(((x - pool_size[0]) // stride + 1, (y - pool_size[1]) // stride + 1))\n",
    "    out_h = output.shape[0]\n",
    "    out_w = output.shape[1]\n",
    "        \n",
    "    for i in range(out_w):\n",
    "        for j in range(out_h):\n",
    "            point_w = i * stride\n",
    "            point_h = j * stride\n",
    "            patch = image[point_w:point_w + pool_size[0], point_h:point_h + pool_size[1]]\n",
    "            output[i, j] = np.max(patch)\n",
    "                \n",
    "    return output"
   ]
  },
  {
   "cell_type": "code",
   "execution_count": null,
   "id": "5e1245ad",
   "metadata": {},
   "outputs": [],
   "source": [
    "\n",
    "output_maxPooling = maxPooling(relu_prewit_y, pool_size=(2, 2), stride=2)\n",
    "print(output_maxPooling.shape)\n",
    "\n",
    "plt.imshow(output_maxPooling, cmap=\"gray\")\n",
    "plt.title(\"Max Pooling\")\n",
    "plt.axis(\"off\")\n",
    "plt.show()"
   ]
  },
  {
   "cell_type": "markdown",
   "id": "5ebc45a9",
   "metadata": {},
   "source": [
    "# Fully Connected Layer"
   ]
  },
  {
   "cell_type": "code",
   "execution_count": null,
   "id": "15388851",
   "metadata": {},
   "outputs": [],
   "source": [
    "def fully_connected_layer(image, weights, bias):\n",
    "    image = np.array(image).flatten()  \n",
    "    output = np.dot(image, weights) + bias\n",
    "    return output"
   ]
  }
 ],
 "metadata": {
  "kernelspec": {
   "display_name": "Python 3",
   "language": "python",
   "name": "python3"
  },
  "language_info": {
   "codemirror_mode": {
    "name": "ipython",
    "version": 3
   },
   "file_extension": ".py",
   "mimetype": "text/x-python",
   "name": "python",
   "nbconvert_exporter": "python",
   "pygments_lexer": "ipython3",
   "version": "3.12.6"
  }
 },
 "nbformat": 4,
 "nbformat_minor": 5
}
